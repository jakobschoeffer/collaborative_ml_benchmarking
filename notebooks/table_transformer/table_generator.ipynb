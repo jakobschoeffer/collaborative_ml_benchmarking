{
 "cells": [
  {
   "cell_type": "code",
   "execution_count": 7,
   "source": [
    "import pandas as pd\n",
    "import os\n",
    "import glob"
   ],
   "outputs": [],
   "metadata": {}
  },
  {
   "cell_type": "markdown",
   "source": [
    "# Performance Short CSVs"
   ],
   "metadata": {}
  },
  {
   "cell_type": "code",
   "execution_count": 14,
   "source": [
    "def read_performance_csv_and_save_as_tex(csv_path, tex_folder):\n",
    "    filename = csv_path.split(\"/\")[-1]\n",
    "    df_performance_short = pd.read_csv(csv_path, index_col=0)\n",
    "    df_performance_short = df_performance_short.transpose()\n",
    "    df_performance_short = df_performance_short * 100\n",
    "    df_performance_short.columns = [col + \" [%]\" for col in df_performance_short.columns]\n",
    "    # TODO umformungen \n",
    "\n",
    "    # save as latex file\n",
    "    with open(os.path.join(tex_folder, filename.replace(\".csv\", \".tex\")), \"w\") as tf:\n",
    "        tf.write(\n",
    "            df_performance_short.to_latex(\n",
    "                caption=\"AUC performance\", label=\"tab:auc_performance\", position=\"h\", float_format=\"%.2f\"\n",
    "            )\n",
    "        )\n",
    "\n",
    "def transform_parformance_short_csvs():\n",
    "    tex_folder = \"./tex\"\n",
    "    performance_shorts_csvs = glob.glob(\"./csvs/*performance_*.csv\")\n",
    "    for csv in performance_shorts_csvs:\n",
    "        read_performance_csv_and_save_as_tex(csv_path=csv, tex_folder=tex_folder)"
   ],
   "outputs": [],
   "metadata": {}
  },
  {
   "cell_type": "code",
   "execution_count": 15,
   "source": [
    "transform_parformance_short_csvs()"
   ],
   "outputs": [],
   "metadata": {}
  },
  {
   "cell_type": "markdown",
   "source": [
    "# Welfare Gains CSVs"
   ],
   "metadata": {}
  },
  {
   "cell_type": "code",
   "execution_count": 12,
   "source": [
    "def read_welfare_csv_and_save_as_tex(csv_path, tex_folder):\n",
    "    # save df as csv\n",
    "    filename = csv_path.split(\"/\")[-1]\n",
    "    df_wg = pd.read_csv(csv_path, index_col=0)\n",
    "    df_wg = df_wg.transpose()\n",
    "    df_wg = df_wg * 100\n",
    "    df_wg.columns = [col + \" [%]\" for col in df_wg.columns]\n",
    "\n",
    "    # save as latex file\n",
    "    with open(os.path.join(tex_folder, filename.replace(\".csv\", \".tex\")), \"w\") as tf:\n",
    "        tf.write(\n",
    "            df_wg.to_latex(\n",
    "                caption=\"AUC welfare gains\", label=\"tab:auc_welfare\", position=\"h\", float_format=\"%.2f\"\n",
    "            )\n",
    "        )\n",
    "\n",
    "def transform_welfare_gains_csvs():\n",
    "    tex_folder = \"./tex\"\n",
    "    welfare_csvs = glob.glob(\"./csvs/*welfare_gains*.csv\")\n",
    "    for csv in welfare_csvs:\n",
    "        read_welfare_csv_and_save_as_tex(csv_path=csv, tex_folder=tex_folder)"
   ],
   "outputs": [],
   "metadata": {}
  },
  {
   "cell_type": "code",
   "execution_count": 13,
   "source": [
    "transform_welfare_gains_csvs()"
   ],
   "outputs": [],
   "metadata": {}
  }
 ],
 "metadata": {
  "orig_nbformat": 4,
  "language_info": {
   "name": "python",
   "version": "3.8.6",
   "mimetype": "text/x-python",
   "codemirror_mode": {
    "name": "ipython",
    "version": 3
   },
   "pygments_lexer": "ipython3",
   "nbconvert_exporter": "python",
   "file_extension": ".py"
  },
  "kernelspec": {
   "name": "python3",
   "display_name": "Python 3.8.6 64-bit ('.venv': poetry)"
  },
  "interpreter": {
   "hash": "dfa5e8817a339546311091913b6bd7df5ff7c87764103b3975fb95726d307541"
  }
 },
 "nbformat": 4,
 "nbformat_minor": 2
}
