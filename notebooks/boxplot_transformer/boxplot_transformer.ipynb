{
 "cells": [
  {
   "cell_type": "code",
   "execution_count": 2,
   "source": [
    "import pandas as pd\n",
    "import matplotlib.pyplot as plt\n",
    "import seaborn as sns\n",
    "import os\n",
    "import glob"
   ],
   "outputs": [],
   "metadata": {}
  },
  {
   "cell_type": "code",
   "execution_count": 17,
   "source": [
    "def create_boxplots(df, output_path, filename):\n",
    "    \"\"\"Creates boxplots of performance dataframe\n",
    "\n",
    "    Args:\n",
    "        df (pandas DataFrame): df containing performance values of current scenario\n",
    "        output_path (str): individual output path\n",
    "    \"\"\"\n",
    "    sns.set_style(\"whitegrid\")\n",
    "    fig = plt.figure()\n",
    "    g = sns.boxplot(data=df.loc[lambda x: [\"run\" in x for x in x.index]])\n",
    "    g.set_xticklabels(g.get_xticklabels(), rotation=90)\n",
    "    fig = g.get_figure()\n",
    "    fig.savefig(os.path.join(output_path, filename), bbox_inches=\"tight\", dpi=600)\n",
    "    plt.close()"
   ],
   "outputs": [],
   "metadata": {}
  },
  {
   "cell_type": "code",
   "execution_count": 20,
   "source": [
    "performance_csvs = glob.glob(\"./csvs/*performance*.csv\")\n",
    "for csv_path in performance_csvs:\n",
    "    csv_path = performance_csvs[0]\n",
    "    df = pd.read_csv(csv_path, index_col=0)\n",
    "    filename = csv_path.split(\"/\")[-1].replace(\".csv\", \".png\")\n",
    "    create_boxplots(df, \"./plots\", filename)"
   ],
   "outputs": [],
   "metadata": {}
  }
 ],
 "metadata": {
  "orig_nbformat": 4,
  "language_info": {
   "name": "python",
   "version": "3.8.6",
   "mimetype": "text/x-python",
   "codemirror_mode": {
    "name": "ipython",
    "version": 3
   },
   "pygments_lexer": "ipython3",
   "nbconvert_exporter": "python",
   "file_extension": ".py"
  },
  "kernelspec": {
   "name": "python3",
   "display_name": "Python 3.8.6 64-bit ('.venv': poetry)"
  },
  "interpreter": {
   "hash": "dfa5e8817a339546311091913b6bd7df5ff7c87764103b3975fb95726d307541"
  }
 },
 "nbformat": 4,
 "nbformat_minor": 2
}
